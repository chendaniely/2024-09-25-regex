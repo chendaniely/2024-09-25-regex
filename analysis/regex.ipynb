{
 "cells": [
  {
   "cell_type": "code",
   "execution_count": 8,
   "id": "47f97e2a-6e40-4bec-a38c-af8543a6acf6",
   "metadata": {},
   "outputs": [],
   "source": [
    "import pandas as pd"
   ]
  },
  {
   "cell_type": "code",
   "execution_count": 9,
   "id": "1d1633d4-b834-4db4-9835-b8e096af7cee",
   "metadata": {},
   "outputs": [],
   "source": [
    "df = pd.read_csv(\"../data/fake phone number Quiz Student Analysis Report.csv\")"
   ]
  },
  {
   "cell_type": "code",
   "execution_count": 10,
   "id": "ed04c271-1f9d-4ec7-ac32-656944419253",
   "metadata": {},
   "outputs": [
    {
     "data": {
      "text/html": [
       "<div>\n",
       "<style scoped>\n",
       "    .dataframe tbody tr th:only-of-type {\n",
       "        vertical-align: middle;\n",
       "    }\n",
       "\n",
       "    .dataframe tbody tr th {\n",
       "        vertical-align: top;\n",
       "    }\n",
       "\n",
       "    .dataframe thead th {\n",
       "        text-align: right;\n",
       "    }\n",
       "</style>\n",
       "<table border=\"1\" class=\"dataframe\">\n",
       "  <thead>\n",
       "    <tr style=\"text-align: right;\">\n",
       "      <th></th>\n",
       "      <th>number</th>\n",
       "    </tr>\n",
       "  </thead>\n",
       "  <tbody>\n",
       "    <tr>\n",
       "      <th>0</th>\n",
       "      <td>514-095-0901</td>\n",
       "    </tr>\n",
       "    <tr>\n",
       "      <th>1</th>\n",
       "      <td>8616601147788</td>\n",
       "    </tr>\n",
       "    <tr>\n",
       "      <th>2</th>\n",
       "      <td>522502910563</td>\n",
       "    </tr>\n",
       "    <tr>\n",
       "      <th>3</th>\n",
       "      <td>6726991234</td>\n",
       "    </tr>\n",
       "    <tr>\n",
       "      <th>4</th>\n",
       "      <td>+1 604 999 2929</td>\n",
       "    </tr>\n",
       "    <tr>\n",
       "      <th>5</th>\n",
       "      <td>817031408236</td>\n",
       "    </tr>\n",
       "    <tr>\n",
       "      <th>6</th>\n",
       "      <td>+1 425 808 7777</td>\n",
       "    </tr>\n",
       "    <tr>\n",
       "      <th>7</th>\n",
       "      <td>+86 18621812398</td>\n",
       "    </tr>\n",
       "    <tr>\n",
       "      <th>8</th>\n",
       "      <td>+374 99 887788</td>\n",
       "    </tr>\n",
       "    <tr>\n",
       "      <th>9</th>\n",
       "      <td>+1 9737777719</td>\n",
       "    </tr>\n",
       "    <tr>\n",
       "      <th>10</th>\n",
       "      <td>+1(571)396-1234</td>\n",
       "    </tr>\n",
       "    <tr>\n",
       "      <th>11</th>\n",
       "      <td>604-543-4321</td>\n",
       "    </tr>\n",
       "    <tr>\n",
       "      <th>12</th>\n",
       "      <td>16047106548</td>\n",
       "    </tr>\n",
       "    <tr>\n",
       "      <th>13</th>\n",
       "      <td>+256754009501\\n\\nuganda</td>\n",
       "    </tr>\n",
       "    <tr>\n",
       "      <th>14</th>\n",
       "      <td>+60 1387 1987 34</td>\n",
       "    </tr>\n",
       "    <tr>\n",
       "      <th>15</th>\n",
       "      <td>6263338798</td>\n",
       "    </tr>\n",
       "    <tr>\n",
       "      <th>16</th>\n",
       "      <td>2892938293</td>\n",
       "    </tr>\n",
       "    <tr>\n",
       "      <th>17</th>\n",
       "      <td>19196677788</td>\n",
       "    </tr>\n",
       "    <tr>\n",
       "      <th>18</th>\n",
       "      <td>9196667788</td>\n",
       "    </tr>\n",
       "    <tr>\n",
       "      <th>19</th>\n",
       "      <td>China: 13389898989</td>\n",
       "    </tr>\n",
       "    <tr>\n",
       "      <th>20</th>\n",
       "      <td>+1(555)123-4567</td>\n",
       "    </tr>\n",
       "    <tr>\n",
       "      <th>21</th>\n",
       "      <td>6047299823</td>\n",
       "    </tr>\n",
       "    <tr>\n",
       "      <th>22</th>\n",
       "      <td>6046660000</td>\n",
       "    </tr>\n",
       "    <tr>\n",
       "      <th>23</th>\n",
       "      <td>010-1168-6536</td>\n",
       "    </tr>\n",
       "    <tr>\n",
       "      <th>24</th>\n",
       "      <td>6562353535</td>\n",
       "    </tr>\n",
       "    <tr>\n",
       "      <th>25</th>\n",
       "      <td>4162382304</td>\n",
       "    </tr>\n",
       "    <tr>\n",
       "      <th>26</th>\n",
       "      <td>6723748540</td>\n",
       "    </tr>\n",
       "    <tr>\n",
       "      <th>27</th>\n",
       "      <td>5332817562</td>\n",
       "    </tr>\n",
       "    <tr>\n",
       "      <th>28</th>\n",
       "      <td>918485296315</td>\n",
       "    </tr>\n",
       "    <tr>\n",
       "      <th>29</th>\n",
       "      <td>+251 923431243</td>\n",
       "    </tr>\n",
       "    <tr>\n",
       "      <th>30</th>\n",
       "      <td>6281216131101</td>\n",
       "    </tr>\n",
       "    <tr>\n",
       "      <th>31</th>\n",
       "      <td>18682254532 - Trinidad and Tobago</td>\n",
       "    </tr>\n",
       "    <tr>\n",
       "      <th>32</th>\n",
       "      <td>84356935565</td>\n",
       "    </tr>\n",
       "    <tr>\n",
       "      <th>33</th>\n",
       "      <td>60179231234</td>\n",
       "    </tr>\n",
       "    <tr>\n",
       "      <th>34</th>\n",
       "      <td>9719593743063</td>\n",
       "    </tr>\n",
       "    <tr>\n",
       "      <th>35</th>\n",
       "      <td>16723508850</td>\n",
       "    </tr>\n",
       "    <tr>\n",
       "      <th>36</th>\n",
       "      <td>0425-262-666</td>\n",
       "    </tr>\n",
       "    <tr>\n",
       "      <th>37</th>\n",
       "      <td>+44 7911 123456</td>\n",
       "    </tr>\n",
       "    <tr>\n",
       "      <th>38</th>\n",
       "      <td>+1 7782230556</td>\n",
       "    </tr>\n",
       "    <tr>\n",
       "      <th>39</th>\n",
       "      <td>2508451876</td>\n",
       "    </tr>\n",
       "    <tr>\n",
       "      <th>40</th>\n",
       "      <td>778-189-9990</td>\n",
       "    </tr>\n",
       "    <tr>\n",
       "      <th>41</th>\n",
       "      <td>9995892710</td>\n",
       "    </tr>\n",
       "    <tr>\n",
       "      <th>42</th>\n",
       "      <td>24455555555</td>\n",
       "    </tr>\n",
       "    <tr>\n",
       "      <th>43</th>\n",
       "      <td>+ 971 55555555</td>\n",
       "    </tr>\n",
       "    <tr>\n",
       "      <th>44</th>\n",
       "      <td>17789000000</td>\n",
       "    </tr>\n",
       "    <tr>\n",
       "      <th>45</th>\n",
       "      <td>0</td>\n",
       "    </tr>\n",
       "    <tr>\n",
       "      <th>46</th>\n",
       "      <td>+86 15693721831</td>\n",
       "    </tr>\n",
       "    <tr>\n",
       "      <th>47</th>\n",
       "      <td>604-999-1133</td>\n",
       "    </tr>\n",
       "    <tr>\n",
       "      <th>48</th>\n",
       "      <td>+86 13820686830</td>\n",
       "    </tr>\n",
       "    <tr>\n",
       "      <th>49</th>\n",
       "      <td>+86 13627386656</td>\n",
       "    </tr>\n",
       "  </tbody>\n",
       "</table>\n",
       "</div>"
      ],
      "text/plain": [
       "                                number\n",
       "0                         514-095-0901\n",
       "1                        8616601147788\n",
       "2                         522502910563\n",
       "3                           6726991234\n",
       "4                      +1 604 999 2929\n",
       "5                         817031408236\n",
       "6                      +1 425 808 7777\n",
       "7                      +86 18621812398\n",
       "8                       +374 99 887788\n",
       "9                        +1 9737777719\n",
       "10                     +1(571)396-1234\n",
       "11                        604-543-4321\n",
       "12                         16047106548\n",
       "13             +256754009501\\n\\nuganda\n",
       "14                    +60 1387 1987 34\n",
       "15                          6263338798\n",
       "16                          2892938293\n",
       "17                         19196677788\n",
       "18                          9196667788\n",
       "19                  China: 13389898989\n",
       "20                     +1(555)123-4567\n",
       "21                          6047299823\n",
       "22                          6046660000\n",
       "23                       010-1168-6536\n",
       "24                          6562353535\n",
       "25                          4162382304\n",
       "26                          6723748540\n",
       "27                          5332817562\n",
       "28                        918485296315\n",
       "29                      +251 923431243\n",
       "30                       6281216131101\n",
       "31  18682254532 - Trinidad and Tobago \n",
       "32                         84356935565\n",
       "33                         60179231234\n",
       "34                       9719593743063\n",
       "35                         16723508850\n",
       "36                        0425-262-666\n",
       "37                     +44 7911 123456\n",
       "38                       +1 7782230556\n",
       "39                          2508451876\n",
       "40                        778-189-9990\n",
       "41                          9995892710\n",
       "42                         24455555555\n",
       "43                      + 971 55555555\n",
       "44                         17789000000\n",
       "45                                   0\n",
       "46                     +86 15693721831\n",
       "47                        604-999-1133\n",
       "48                     +86 13820686830\n",
       "49                     +86 13627386656"
      ]
     },
     "execution_count": 10,
     "metadata": {},
     "output_type": "execute_result"
    }
   ],
   "source": [
    "df"
   ]
  },
  {
   "cell_type": "code",
   "execution_count": 13,
   "id": "ac3a3a00-fe9a-469f-9a1a-796431dc99ca",
   "metadata": {},
   "outputs": [
    {
     "data": {
      "text/plain": [
       "'19196677788'"
      ]
     },
     "execution_count": 13,
     "metadata": {},
     "output_type": "execute_result"
    }
   ],
   "source": [
    "\"19196677788\""
   ]
  },
  {
   "cell_type": "code",
   "execution_count": 12,
   "id": "d65bdcc7-9724-47f9-b566-2a4c9dddedb9",
   "metadata": {},
   "outputs": [],
   "source": [
    "import re"
   ]
  },
  {
   "cell_type": "code",
   "execution_count": 14,
   "id": "138458bf-2b63-4155-9c1e-cad10fc4acd4",
   "metadata": {},
   "outputs": [],
   "source": [
    "pattern = \"[0-9]*\""
   ]
  },
  {
   "cell_type": "code",
   "execution_count": 18,
   "id": "e8dac5be-f475-458d-8b5c-039c335b19e3",
   "metadata": {},
   "outputs": [],
   "source": [
    "pattern_compiled = re.compile(pattern)"
   ]
  },
  {
   "cell_type": "code",
   "execution_count": 21,
   "id": "8175ada1-eb9e-4a19-9fcf-338dc1f9f50b",
   "metadata": {},
   "outputs": [
    {
     "data": {
      "text/plain": [
       "True"
      ]
     },
     "execution_count": 21,
     "metadata": {},
     "output_type": "execute_result"
    }
   ],
   "source": [
    "bool(pattern_compiled.match(\"19196677788\"))"
   ]
  },
  {
   "cell_type": "code",
   "execution_count": 24,
   "id": "6a8f8daf-385c-4aa8-8ff0-e15392a7bfb9",
   "metadata": {},
   "outputs": [
    {
     "data": {
      "text/plain": [
       "True"
      ]
     },
     "execution_count": 24,
     "metadata": {},
     "output_type": "execute_result"
    }
   ],
   "source": [
    "pattern_1 = \"[0-9].\"\n",
    "pattern_compiled = re.compile(pattern_1)\n",
    "bool(pattern_compiled.match(\"19196677788\"))"
   ]
  },
  {
   "cell_type": "code",
   "execution_count": 30,
   "id": "14021ae4-4bba-4b54-8c84-a2653e4455fa",
   "metadata": {},
   "outputs": [
    {
     "data": {
      "text/plain": [
       "False"
      ]
     },
     "execution_count": 30,
     "metadata": {},
     "output_type": "execute_result"
    }
   ],
   "source": [
    "pattern_2 = \"^[0-9].$\"\n",
    "pattern_compiled = re.compile(pattern_2)\n",
    "bool(pattern_compiled.match(\"19196677788\"))"
   ]
  },
  {
   "cell_type": "code",
   "execution_count": 35,
   "id": "60d37b80-0cbe-4eb6-91f3-e3ed4a0523cb",
   "metadata": {},
   "outputs": [
    {
     "data": {
      "text/plain": [
       "True"
      ]
     },
     "execution_count": 35,
     "metadata": {},
     "output_type": "execute_result"
    }
   ],
   "source": [
    "pattern_3 = \"^[0-9]*$\"\n",
    "pattern_compiled = re.compile(pattern_3)\n",
    "bool(pattern_compiled.match(\"19196677788\"))"
   ]
  },
  {
   "cell_type": "code",
   "execution_count": 38,
   "id": "40e19195-a673-4439-a044-351f3998fc0f",
   "metadata": {},
   "outputs": [
    {
     "data": {
      "text/plain": [
       "True"
      ]
     },
     "execution_count": 38,
     "metadata": {},
     "output_type": "execute_result"
    }
   ],
   "source": [
    "pattern_4 = \"^[0-9]{11}$\"\n",
    "pattern_compiled = re.compile(pattern_4)\n",
    "bool(pattern_compiled.match(\"19196677788\"))"
   ]
  },
  {
   "cell_type": "code",
   "execution_count": 41,
   "id": "4e7b705a-f5de-48cd-9dc9-f2b3eb11c205",
   "metadata": {},
   "outputs": [
    {
     "data": {
      "text/plain": [
       "True"
      ]
     },
     "execution_count": 41,
     "metadata": {},
     "output_type": "execute_result"
    }
   ],
   "source": [
    "pattern_5 = \"^\\\\d{11}$\"\n",
    "pattern_compiled = re.compile(pattern_5)\n",
    "bool(pattern_compiled.match(\"19196677788\"))"
   ]
  },
  {
   "cell_type": "code",
   "execution_count": 45,
   "id": "519d8073-35db-4ef9-acda-23b38c5aaa2a",
   "metadata": {},
   "outputs": [
    {
     "data": {
      "text/html": [
       "<div>\n",
       "<style scoped>\n",
       "    .dataframe tbody tr th:only-of-type {\n",
       "        vertical-align: middle;\n",
       "    }\n",
       "\n",
       "    .dataframe tbody tr th {\n",
       "        vertical-align: top;\n",
       "    }\n",
       "\n",
       "    .dataframe thead th {\n",
       "        text-align: right;\n",
       "    }\n",
       "</style>\n",
       "<table border=\"1\" class=\"dataframe\">\n",
       "  <thead>\n",
       "    <tr style=\"text-align: right;\">\n",
       "      <th></th>\n",
       "      <th>number</th>\n",
       "    </tr>\n",
       "  </thead>\n",
       "  <tbody>\n",
       "    <tr>\n",
       "      <th>12</th>\n",
       "      <td>16047106548</td>\n",
       "    </tr>\n",
       "    <tr>\n",
       "      <th>17</th>\n",
       "      <td>19196677788</td>\n",
       "    </tr>\n",
       "    <tr>\n",
       "      <th>32</th>\n",
       "      <td>84356935565</td>\n",
       "    </tr>\n",
       "    <tr>\n",
       "      <th>33</th>\n",
       "      <td>60179231234</td>\n",
       "    </tr>\n",
       "    <tr>\n",
       "      <th>35</th>\n",
       "      <td>16723508850</td>\n",
       "    </tr>\n",
       "    <tr>\n",
       "      <th>42</th>\n",
       "      <td>24455555555</td>\n",
       "    </tr>\n",
       "    <tr>\n",
       "      <th>44</th>\n",
       "      <td>17789000000</td>\n",
       "    </tr>\n",
       "  </tbody>\n",
       "</table>\n",
       "</div>"
      ],
      "text/plain": [
       "         number\n",
       "12  16047106548\n",
       "17  19196677788\n",
       "32  84356935565\n",
       "33  60179231234\n",
       "35  16723508850\n",
       "42  24455555555\n",
       "44  17789000000"
      ]
     },
     "execution_count": 45,
     "metadata": {},
     "output_type": "execute_result"
    }
   ],
   "source": [
    "df.loc[df[\"number\"].str.match(\"^\\\\d{11}$\")]"
   ]
  },
  {
   "cell_type": "code",
   "execution_count": 47,
   "id": "a56fd095-c6ea-423a-90f9-549a70a76001",
   "metadata": {},
   "outputs": [
    {
     "data": {
      "text/html": [
       "<div>\n",
       "<style scoped>\n",
       "    .dataframe tbody tr th:only-of-type {\n",
       "        vertical-align: middle;\n",
       "    }\n",
       "\n",
       "    .dataframe tbody tr th {\n",
       "        vertical-align: top;\n",
       "    }\n",
       "\n",
       "    .dataframe thead th {\n",
       "        text-align: right;\n",
       "    }\n",
       "</style>\n",
       "<table border=\"1\" class=\"dataframe\">\n",
       "  <thead>\n",
       "    <tr style=\"text-align: right;\">\n",
       "      <th></th>\n",
       "      <th>number</th>\n",
       "    </tr>\n",
       "  </thead>\n",
       "  <tbody>\n",
       "    <tr>\n",
       "      <th>12</th>\n",
       "      <td>16047106548</td>\n",
       "    </tr>\n",
       "    <tr>\n",
       "      <th>17</th>\n",
       "      <td>19196677788</td>\n",
       "    </tr>\n",
       "    <tr>\n",
       "      <th>35</th>\n",
       "      <td>16723508850</td>\n",
       "    </tr>\n",
       "    <tr>\n",
       "      <th>44</th>\n",
       "      <td>17789000000</td>\n",
       "    </tr>\n",
       "  </tbody>\n",
       "</table>\n",
       "</div>"
      ],
      "text/plain": [
       "         number\n",
       "12  16047106548\n",
       "17  19196677788\n",
       "35  16723508850\n",
       "44  17789000000"
      ]
     },
     "execution_count": 47,
     "metadata": {},
     "output_type": "execute_result"
    }
   ],
   "source": [
    "df.loc[df[\"number\"].str.match(\"^1\\\\d{10}$\")]"
   ]
  },
  {
   "cell_type": "code",
   "execution_count": null,
   "id": "8d3366d2-8c8a-4a04-9559-65bbf77a5af5",
   "metadata": {},
   "outputs": [],
   "source": []
  }
 ],
 "metadata": {
  "kernelspec": {
   "display_name": "Python 3 (ipykernel)",
   "language": "python",
   "name": "python3"
  },
  "language_info": {
   "codemirror_mode": {
    "name": "ipython",
    "version": 3
   },
   "file_extension": ".py",
   "mimetype": "text/x-python",
   "name": "python",
   "nbconvert_exporter": "python",
   "pygments_lexer": "ipython3",
   "version": "3.12.6"
  }
 },
 "nbformat": 4,
 "nbformat_minor": 5
}
